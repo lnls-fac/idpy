{
 "cells": [
  {
   "cell_type": "markdown",
   "metadata": {},
   "source": [
    "# Example of EPU Model Creation and Beam Trajectory Calculation"
   ]
  },
  {
   "cell_type": "markdown",
   "metadata": {},
   "source": [
    "## Initializations"
   ]
  },
  {
   "cell_type": "code",
   "execution_count": 1,
   "metadata": {
    "collapsed": false
   },
   "outputs": [],
   "source": [
    "import numpy\n",
    "import matplotlib.pyplot as plt\n",
    "import idpy"
   ]
  },
  {
   "cell_type": "markdown",
   "metadata": {},
   "source": [
    "## Create EPU Model"
   ]
  },
  {
   "cell_type": "code",
   "execution_count": 3,
   "metadata": {
    "collapsed": false
   },
   "outputs": [],
   "source": [
    "# Number of periods of the Halbach cassette\n",
    "id_nr_periods = 20\n",
    "\n",
    "# ID gap [meter]\n",
    "id_gap = 0.020\n",
    "\n",
    "# ID period length [meter]\n",
    "id_period_length = 0.040 \n",
    "\n",
    "# Block Magnetization (magnetization of the first block in vertical direction) [Tesla]\n",
    "mag = [0,1.45,0]\n",
    "\n",
    "# Block Dimension [meter]\n",
    "dim = [0.060,0.060,id_period_length/4]\n",
    "\n",
    "# Position of the center of the first block [meter]\n",
    "pos = [0,0,0]\n",
    "\n",
    "# Create block\n",
    "block = idpy.cassette.Block(mag, dim, pos)\n",
    "\n",
    "# Magnetization rotation matrix \n",
    "rot = idpy.utils.rotx90p\n",
    "\n",
    "# Create a Halbach cassette\n",
    "epu = idpy.idmodel.EPU(block, id_nr_periods, id_gap, 0)"
   ]
  },
  {
   "cell_type": "markdown",
   "metadata": {},
   "source": [
    "## Plot Fields"
   ]
  },
  {
   "cell_type": "code",
   "execution_count": 4,
   "metadata": {
    "collapsed": false
   },
   "outputs": [],
   "source": [
    "nr_pts = 1000\n",
    "posx = 0.000\n",
    "posy = 0.000\n",
    "\n",
    "pos = numpy.zeros((nr_pts,3))\n",
    "pos[:,0] = posx\n",
    "pos[:,1] = posy\n",
    "pos[:,2] = numpy.linspace(epu.zmin-0.400,epu.zmax+0.400,nr_pts)\n",
    "\n",
    "field = epu.field(pos)\n",
    "\n",
    "# saves field to file\n",
    "data = numpy.hstack([pos,field])\n",
    "numpy.savetxt('field.txt', data)\n",
    "\n",
    "# plots By\n",
    "plt.plot(pos[:,2]*1000, field[:,0])\n",
    "plt.plot(pos[:,2]*1000, field[:,1])\n",
    "plt.plot(pos[:,2]*1000, field[:,2])\n",
    "plt.legend(['Bx','By','Bz'])\n",
    "plt.show()"
   ]
  },
  {
   "cell_type": "markdown",
   "metadata": {},
   "source": [
    "## Trajectory calculations"
   ]
  },
  {
   "cell_type": "code",
   "execution_count": 8,
   "metadata": {
    "collapsed": false
   },
   "outputs": [
    {
     "ename": "UnboundLocalError",
     "evalue": "local variable 'trajectory' referenced before assignment",
     "output_type": "error",
     "traceback": [
      "\u001b[0;31m---------------------------------------------------------------------------\u001b[0m",
      "\u001b[0;31mUnboundLocalError\u001b[0m                         Traceback (most recent call last)",
      "\u001b[0;32m<ipython-input-8-9460e736f3e4>\u001b[0m in \u001b[0;36m<module>\u001b[0;34m()\u001b[0m\n\u001b[1;32m      3\u001b[0m                                \u001b[0mr\u001b[0m \u001b[0;34m=\u001b[0m \u001b[0;34m[\u001b[0m\u001b[0;36m0\u001b[0m\u001b[0;34m,\u001b[0m\u001b[0;36m0\u001b[0m\u001b[0;34m,\u001b[0m\u001b[0;34m-\u001b[0m\u001b[0;36m1.0\u001b[0m\u001b[0;34m]\u001b[0m\u001b[0;34m,\u001b[0m \u001b[0mp\u001b[0m \u001b[0;34m=\u001b[0m \u001b[0;34m[\u001b[0m\u001b[0;36m0\u001b[0m\u001b[0;34m,\u001b[0m\u001b[0;36m0\u001b[0m\u001b[0;34m,\u001b[0m\u001b[0;36m1\u001b[0m\u001b[0;34m]\u001b[0m\u001b[0;34m,\u001b[0m\u001b[0;34m\u001b[0m\u001b[0m\n\u001b[1;32m      4\u001b[0m                                \u001b[0mzmax\u001b[0m \u001b[0;34m=\u001b[0m \u001b[0;36m1.0\u001b[0m\u001b[0;34m,\u001b[0m \u001b[0mstep\u001b[0m \u001b[0;34m=\u001b[0m \u001b[0;36m0.001\u001b[0m\u001b[0;34m,\u001b[0m\u001b[0;34m\u001b[0m\u001b[0m\n\u001b[0;32m----> 5\u001b[0;31m                               trajectory_flag = True)\n\u001b[0m",
      "\u001b[0;32m/home/fac_files/code/idpy/idpy/functions.py\u001b[0m in \u001b[0;36mrunge_kutta\u001b[0;34m(magnet, energy, r, p, zmax, step, mask, trajectory_flag)\u001b[0m\n\u001b[1;32m     43\u001b[0m         \u001b[0m_idcpp\u001b[0m\u001b[0;34m.\u001b[0m\u001b[0mrunge_kutta\u001b[0m\u001b[0;34m(\u001b[0m\u001b[0mcpp_magnet\u001b[0m\u001b[0;34m,\u001b[0m \u001b[0menergy\u001b[0m\u001b[0;34m,\u001b[0m \u001b[0mcpp_r\u001b[0m\u001b[0;34m,\u001b[0m \u001b[0mcpp_p\u001b[0m\u001b[0;34m,\u001b[0m \u001b[0mzmax\u001b[0m\u001b[0;34m,\u001b[0m \u001b[0mstep\u001b[0m\u001b[0;34m,\u001b[0m \u001b[0mcpp_mask\u001b[0m\u001b[0;34m,\u001b[0m \u001b[0mcpp_trajectory\u001b[0m\u001b[0;34m)\u001b[0m\u001b[0;34m\u001b[0m\u001b[0m\n\u001b[1;32m     44\u001b[0m         \u001b[0mkick\u001b[0m \u001b[0;34m=\u001b[0m \u001b[0m_utils\u001b[0m\u001b[0;34m.\u001b[0m\u001b[0m_CppVector3D_to_vector\u001b[0m\u001b[0;34m(\u001b[0m\u001b[0mcpp_kick\u001b[0m\u001b[0;34m)\u001b[0m\u001b[0;34m\u001b[0m\u001b[0m\n\u001b[0;32m---> 45\u001b[0;31m         \u001b[0mtrajectory\u001b[0m \u001b[0;34m=\u001b[0m \u001b[0m_utils\u001b[0m\u001b[0;34m.\u001b[0m\u001b[0m_CppDoubleVectorVector_to_matrix\u001b[0m\u001b[0;34m(\u001b[0m\u001b[0mtrajectory\u001b[0m\u001b[0;34m)\u001b[0m\u001b[0;34m\u001b[0m\u001b[0m\n\u001b[0m\u001b[1;32m     46\u001b[0m         \u001b[0;32mreturn\u001b[0m \u001b[0mtrajectory\u001b[0m\u001b[0;34m\u001b[0m\u001b[0m\n\u001b[1;32m     47\u001b[0m     \u001b[0;32melse\u001b[0m\u001b[0;34m:\u001b[0m\u001b[0;34m\u001b[0m\u001b[0m\n",
      "\u001b[0;31mUnboundLocalError\u001b[0m: local variable 'trajectory' referenced before assignment"
     ]
    }
   ],
   "source": [
    "r = idpy.functions.runge_kutta(magnet = epu, \n",
    "                               energy = 3e9, \n",
    "                               r = [0,0,-1.0], p = [0,0,1], \n",
    "                               zmax = 1.0, step = 0.001,\n",
    "                              trajectory_flag = True)"
   ]
  },
  {
   "cell_type": "code",
   "execution_count": 7,
   "metadata": {
    "collapsed": false
   },
   "outputs": [
    {
     "data": {
      "text/plain": [
       "array([ -2.40282489e-07,  -8.47145007e-19,   1.00000000e+00])"
      ]
     },
     "execution_count": 7,
     "metadata": {},
     "output_type": "execute_result"
    }
   ],
   "source": [
    "r"
   ]
  },
  {
   "cell_type": "code",
   "execution_count": 28,
   "metadata": {
    "collapsed": false
   },
   "outputs": [
    {
     "data": {
      "text/plain": [
       "array([ -2.40282489e-07,  -8.47145007e-19,   1.00000000e+00])"
      ]
     },
     "execution_count": 28,
     "metadata": {},
     "output_type": "execute_result"
    }
   ],
   "source": [
    "idpy.functions.runge_kutta(epu, 3e9, [0,0,-1], [0,0,1], 1, 0.001)"
   ]
  },
  {
   "cell_type": "code",
   "execution_count": 5,
   "metadata": {
    "collapsed": false
   },
   "outputs": [],
   "source": [
    "idpy.functions.runge_kutta??"
   ]
  }
 ],
 "metadata": {
  "kernelspec": {
   "display_name": "Python 3",
   "language": "python",
   "name": "python3"
  },
  "language_info": {
   "codemirror_mode": {
    "name": "ipython",
    "version": 3
   },
   "file_extension": ".py",
   "mimetype": "text/x-python",
   "name": "python",
   "nbconvert_exporter": "python",
   "pygments_lexer": "ipython3",
   "version": "3.4.3"
  }
 },
 "nbformat": 4,
 "nbformat_minor": 0
}
